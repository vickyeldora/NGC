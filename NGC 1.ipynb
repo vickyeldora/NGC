{
 "cells": [
  {
   "cell_type": "code",
   "execution_count": 15,
   "metadata": {},
   "outputs": [
    {
     "name": "stdout",
     "output_type": "stream",
     "text": [
      "['B818', 'A082', 'A901', 'B341', 'B821', 'A092', 'B219', 'B439', 'A461', 'A005', 'A083', 'B904']\n",
      "12\n",
      "the unique values from customer_id list is\n",
      "B818 A461 A092 A082 B341 A005 A092 A461 B219 B904 A901 A083 B904 A092 B341 B821 B341 B821 B904 B818 A901 A083 B818 A082 B219 B219 A083 A901 A082 B341 B341 A083 A082 B219 B439 A461 A005 A901 B341 A082 A083 A461 A083 A901 A461 A083 A082 A083 B341 A901 A082 A461 B219 A083 B818 B821 A092 B341 A461 A092 A083 B821 A092 ['B818', 'A082', 'A901', 'B341', 'B821', 'A092', 'B219', 'B439', 'A461', 'A005', 'A083', 'B904']\n",
      "12\n"
     ]
    }
   ],
   "source": [
    "# TASK 1\n",
    "customer_id = ['B818', 'A461', 'A092', 'A082', 'B341', 'A005', 'A092', 'A461','B219', 'B904', 'A901', 'A083', 'B904', 'A092', 'B341', 'B821','B341', 'B821', 'B904', 'B818', 'A901', 'A083', 'B818', 'A082','B219', 'B219', 'A083', 'A901', 'A082', 'B341', 'B341', 'A083','A082', 'B219', 'B439', 'A461', 'A005', 'A901', 'B341', 'A082','A083', 'A461', 'A083', 'A901', 'A461', 'A083', 'A082', 'A083','B341', 'A901', 'A082', 'A461', 'B219', 'A083', 'B818', 'B821','A092', 'B341', 'A461', 'A092', 'A083', 'B821', 'A092']\n",
    "\n",
    "unique_values = list(set(customer_id))\n",
    "print (unique_values)\n",
    "print (len(unique_values))\n",
    "\n",
    "# ATAU\n",
    "\n",
    "def unique (customer_id):\n",
    "\n",
    "    unique_list = []\n",
    "\n",
    "    for x in customer_id:\n",
    "\n",
    "        if customer_id not in unique_list:\n",
    "            unique_list.append(x)\n",
    "    for x in unique_list:\n",
    "        print (x, end=\" \"), \n",
    "\n",
    "#driver code\n",
    "customer_id = ['B818', 'A461', 'A092', 'A082', 'B341', 'A005', 'A092', 'A461',\n",
    "'B219', 'B904', 'A901', 'A083', 'B904', 'A092', 'B341', 'B821',\n",
    "'B341', 'B821', 'B904', 'B818', 'A901', 'A083', 'B818', 'A082',\n",
    "'B219', 'B219', 'A083', 'A901', 'A082', 'B341', 'B341', 'A083',\n",
    "'A082', 'B219', 'B439', 'A461', 'A005', 'A901', 'B341', 'A082',\n",
    "'A083', 'A461', 'A083', 'A901', 'A461', 'A083', 'A082', 'A083',\n",
    "'B341', 'A901', 'A082', 'A461', 'B219', 'A083', 'B818', 'B821',\n",
    "'A092', 'B341', 'A461', 'A092', 'A083', 'B821', 'A092']\n",
    "print(\"the unique values from customer_id list is\")\n",
    "unique(customer_id)\n",
    "\n",
    "# ATAU\n",
    "\n",
    "unique_values = list(set(customer_id))\n",
    "print (unique_values)\n",
    "print (len(unique_values))"
   ]
  },
  {
   "cell_type": "code",
   "execution_count": 11,
   "metadata": {},
   "outputs": [
    {
     "name": "stdout",
     "output_type": "stream",
     "text": [
      "16\n",
      "[36, 49, 64, 81]\n",
      "[100, 81, 64, 49, 36, 25, 16, 9, 4, 1]\n",
      "[100]\n"
     ]
    }
   ],
   "source": [
    "#TASK 2\n",
    "Data = [1, 4, 9, 16, 25, 36, 49,  64, 81, 100]\n",
    "\n",
    "print (Data [3])\n",
    "print (Data [5:9])\n",
    "print (Data[::-1])\n",
    "\n",
    "# ATAU\n",
    "# Data.reverse()\n",
    "# print(Data)\n"
   ]
  },
  {
   "cell_type": "code",
   "execution_count": 16,
   "metadata": {},
   "outputs": [
    {
     "name": "stdout",
     "output_type": "stream",
     "text": [
      "['Nanggroe Aceh Darussalam', 'Sumatera Selatan', 'Kalimantan Barat', 'Jawa Timur', 'Sulawesi Selatan', 'Maluku']\n",
      "{'Nanggroe Aceh Darussalam': 'Aceh', 'Sumatera Selatan': 'Palembang', 'Kalimantan Barat': 'Pontianak', 'Jawa Timur': 'Surabaya', 'Sulawesi Selatan': 'Makassar', 'Maluku': 'Ambon'}\n"
     ]
    }
   ],
   "source": [
    "# Task 3\n",
    "provinsi = {'Nanggroe Aceh Darussalam': 'Aceh','Sumatera Selatan': 'Palembang','Kalimantan Barat': 'Pontianak','Jawa Timur': 'Madiun','Sulawesi Selatan': 'Makassar','Maluku': 'Ambon'}\n",
    "\n",
    "print (list(provinsi))\n",
    "provinsi ['Jawa Timur'] = 'Surabaya'\n",
    "print (provinsi)"
   ]
  }
 ],
 "metadata": {
  "kernelspec": {
   "display_name": "hacktiv8",
   "language": "python",
   "name": "python3"
  },
  "language_info": {
   "codemirror_mode": {
    "name": "ipython",
    "version": 3
   },
   "file_extension": ".py",
   "mimetype": "text/x-python",
   "name": "python",
   "nbconvert_exporter": "python",
   "pygments_lexer": "ipython3",
   "version": "3.9.18"
  }
 },
 "nbformat": 4,
 "nbformat_minor": 2
}
